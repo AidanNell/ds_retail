{
 "cells": [
  {
   "cell_type": "code",
   "execution_count": 1,
   "id": "7f488a8e-1140-491c-8fc5-9d488e8b148e",
   "metadata": {},
   "outputs": [],
   "source": [
    "#basic\n",
    "import numpy as np \n",
    "import pandas as pd\n",
    "from datetime import timedelta\n",
    "#viz\n",
    "import seaborn as sns\n",
    "import matplotlib.pyplot as plt\n",
    "color = sns.color_palette()\n",
    "\n",
    "#others\n",
    "import subprocess\n",
    "from subprocess import check_output\n",
    "import gc\n",
    "\n",
    "%matplotlib inline"
   ]
  },
  {
   "cell_type": "code",
   "execution_count": 2,
   "id": "5adb4996-f31f-467d-a409-a131843bebb2",
   "metadata": {},
   "outputs": [
    {
     "name": "stdout",
     "output_type": "stream",
     "text": [
      "done\n"
     ]
    },
    {
     "name": "stderr",
     "output_type": "stream",
     "text": [
      "C:\\Users\\Aidan\\AppData\\Local\\Programs\\Python\\Python39\\lib\\site-packages\\IPython\\core\\interactiveshell.py:3169: DtypeWarning: Columns (4) have mixed types.Specify dtype option on import or set low_memory=False.\n",
      "  has_raised = await self.run_ast_nodes(code_ast.body, cell_name,\n"
     ]
    }
   ],
   "source": [
    "# train = pd.read_csv(\"input/train.csv\")\n",
    "test = pd.read_csv(\"input/test.csv\")\n",
    "stores = pd.read_csv(\"input/stores.csv\")\n",
    "items = pd.read_csv(\"input/items.csv\")\n",
    "trans = pd.read_csv(\"input/transactions.csv\")\n",
    "oil = pd.read_csv(\"input/oil.csv\")\n",
    "holiday = pd.read_csv(\"input/holidays_events.csv\")\n",
    "print(\"done\")"
   ]
  },
  {
   "cell_type": "code",
   "execution_count": 3,
   "id": "8d97f96f-2832-4b2e-a441-8e7657065bae",
   "metadata": {},
   "outputs": [
    {
     "name": "stdout",
     "output_type": "stream",
     "text": [
      "test dataset uses  27.816246032714844  MB\n"
     ]
    },
    {
     "data": {
      "text/html": [
       "<div>\n",
       "<style scoped>\n",
       "    .dataframe tbody tr th:only-of-type {\n",
       "        vertical-align: middle;\n",
       "    }\n",
       "\n",
       "    .dataframe tbody tr th {\n",
       "        vertical-align: top;\n",
       "    }\n",
       "\n",
       "    .dataframe thead th {\n",
       "        text-align: right;\n",
       "    }\n",
       "</style>\n",
       "<table border=\"1\" class=\"dataframe\">\n",
       "  <thead>\n",
       "    <tr style=\"text-align: right;\">\n",
       "      <th></th>\n",
       "      <th>id</th>\n",
       "      <th>date</th>\n",
       "      <th>store_nbr</th>\n",
       "      <th>item_nbr</th>\n",
       "      <th>onpromotion</th>\n",
       "    </tr>\n",
       "  </thead>\n",
       "  <tbody>\n",
       "    <tr>\n",
       "      <th>0</th>\n",
       "      <td>125497040</td>\n",
       "      <td>2017-08-16</td>\n",
       "      <td>1</td>\n",
       "      <td>96995</td>\n",
       "      <td>False</td>\n",
       "    </tr>\n",
       "    <tr>\n",
       "      <th>1</th>\n",
       "      <td>125497041</td>\n",
       "      <td>2017-08-16</td>\n",
       "      <td>1</td>\n",
       "      <td>99197</td>\n",
       "      <td>False</td>\n",
       "    </tr>\n",
       "    <tr>\n",
       "      <th>2</th>\n",
       "      <td>125497042</td>\n",
       "      <td>2017-08-16</td>\n",
       "      <td>1</td>\n",
       "      <td>103501</td>\n",
       "      <td>False</td>\n",
       "    </tr>\n",
       "    <tr>\n",
       "      <th>3</th>\n",
       "      <td>125497043</td>\n",
       "      <td>2017-08-16</td>\n",
       "      <td>1</td>\n",
       "      <td>103520</td>\n",
       "      <td>False</td>\n",
       "    </tr>\n",
       "    <tr>\n",
       "      <th>4</th>\n",
       "      <td>125497044</td>\n",
       "      <td>2017-08-16</td>\n",
       "      <td>1</td>\n",
       "      <td>103665</td>\n",
       "      <td>False</td>\n",
       "    </tr>\n",
       "  </tbody>\n",
       "</table>\n",
       "</div>"
      ],
      "text/plain": [
       "          id        date  store_nbr  item_nbr onpromotion\n",
       "0  125497040  2017-08-16          1     96995       False\n",
       "1  125497041  2017-08-16          1     99197       False\n",
       "2  125497042  2017-08-16          1    103501       False\n",
       "3  125497043  2017-08-16          1    103520       False\n",
       "4  125497044  2017-08-16          1    103665       False"
      ]
     },
     "execution_count": 3,
     "metadata": {},
     "output_type": "execute_result"
    }
   ],
   "source": [
    "#check memory use for the two biggest files - train and test\n",
    "#mem_train = train.memory_usage(index=True).sum()\n",
    "mem_test=test.memory_usage(index=True).sum()\n",
    "#print(\"train dataset uses \",mem_train/ 1024**2,\" MB\")\n",
    "print(\"test dataset uses \",mem_test/ 1024**2,\" MB\")\n",
    "# checking contents in train\n",
    "test.head()"
   ]
  },
  {
   "cell_type": "code",
   "execution_count": 4,
   "id": "71218bd2-7fbd-4ef4-a0c1-954eedce59c6",
   "metadata": {},
   "outputs": [
    {
     "name": "stdout",
     "output_type": "stream",
     "text": [
      "id              126226222\n",
      "date           2017-08-19\n",
      "store_nbr              54\n",
      "item_nbr          2134244\n",
      "onpromotion          True\n",
      "dtype: object\n",
      "id              125497040\n",
      "date           2017-08-16\n",
      "store_nbr               1\n",
      "item_nbr            20289\n",
      "onpromotion         False\n",
      "dtype: object\n",
      "id              int64\n",
      "date           object\n",
      "store_nbr       int64\n",
      "item_nbr        int64\n",
      "onpromotion    object\n",
      "dtype: object\n"
     ]
    }
   ],
   "source": [
    "# optimize test.csv\n",
    "# First check the contents of train.csv\n",
    "print(test.max())\n",
    "print(test.min())\n",
    "#check datatypes\n",
    "print(test.dtypes)"
   ]
  },
  {
   "cell_type": "code",
   "execution_count": 5,
   "id": "85031f1a-a748-470c-bffc-ecb6e486e689",
   "metadata": {},
   "outputs": [
    {
     "name": "stdout",
     "output_type": "stream",
     "text": [
      "Index              128\n",
      "id             2916732\n",
      "date           5833464\n",
      "store_nbr       729183\n",
      "item_nbr       2916732\n",
      "onpromotion    5833464\n",
      "dtype: int64\n",
      "test dataset uses  17.385199546813965  MB after changes\n",
      "memory saved = 10.431046485900879  MB\n"
     ]
    }
   ],
   "source": [
    "#There are only 54 stores\n",
    "test['store_nbr'] = test['store_nbr'].astype(np.uint8)\n",
    "# The ID column is a continuous number from 1 to 128867502 in train and 128867503 to 125497040 in test\n",
    "test['id'] = test['id'].astype(np.uint32)\n",
    "# item number is unsigned \n",
    "test['item_nbr'] = test['item_nbr'].astype(np.uint32)\n",
    "#Converting the date column to date format\n",
    "test['date']=pd.to_datetime(test['date'],format=\"%Y-%m-%d\")\n",
    "#check memory\n",
    "print(test.memory_usage(index=True))\n",
    "new_mem_test=test.memory_usage(index=True).sum()\n",
    "print(\"test dataset uses \",new_mem_test/ 1024**2,\" MB after changes\")\n",
    "print(\"memory saved =\",(mem_test-new_mem_test)/ 1024**2,\" MB\")"
   ]
  },
  {
   "cell_type": "code",
   "execution_count": 6,
   "id": "ef481e00-8877-48e1-a2cb-2d5f865dfa69",
   "metadata": {},
   "outputs": [],
   "source": [
    "# scaling part 1 to the entire dataset\n",
    "dtype_dict={\"id\":np.uint32,\n",
    "            \"store_nbr\":np.uint8,\n",
    "            \"item_nbr\":np.uint32,\n",
    "            \"unit_sales\":np.float32\n",
    "           }"
   ]
  },
  {
   "cell_type": "code",
   "execution_count": 7,
   "id": "f58df2d2-3c0a-4ee4-818a-faa16a9f10f6",
   "metadata": {},
   "outputs": [
    {
     "name": "stdout",
     "output_type": "stream",
     "text": [
      "   onpromotion  Year  Month  Day\n",
      "0            0  2016     12   31\n",
      "1            0  2017      1    1\n",
      "2            0  2017      1    1\n",
      "3            0  2017      1    1\n",
      "4            0  2017      1    1\n",
      "onpromotion      int8\n",
      "Year           uint16\n",
      "Month           uint8\n",
      "Day             uint8\n",
      "dtype: object\n"
     ]
    }
   ],
   "source": [
    "# now scaling it to the entire dataset of train\n",
    "\n",
    "train_part2=pd.read_csv(\"input/train.csv\",dtype=dtype_dict,usecols=[1,5],parse_dates=['date'], skiprows=range(1, 101688779))\n",
    "train_part2['Year'] = pd.DatetimeIndex(train_part2['date']).year\n",
    "train_part2['Month'] = pd.DatetimeIndex(train_part2['date']).month\n",
    "train_part2['Day'] =pd.DatetimeIndex(train_part2['date']).day.astype(np.uint8)\n",
    "del(train_part2['date'])\n",
    "train_part2['Day']=train_part2['Day'].astype(np.uint8)\n",
    "train_part2['Month']=train_part2['Month'].astype(np.uint8)\n",
    "train_part2['Year']=train_part2['Year'].astype(np.uint16)\n",
    "\n",
    "#impute the missing values to be -1\n",
    "train_part2[\"onpromotion\"].fillna(0, inplace=True)\n",
    "train_part2[\"onpromotion\"]=train_part2[\"onpromotion\"].astype(np.int8)\n",
    "print(train_part2.head())\n",
    "print(train_part2.dtypes)"
   ]
  },
  {
   "cell_type": "code",
   "execution_count": 8,
   "id": "d7453737-8449-49df-b023-f4f8e8b7f2b5",
   "metadata": {},
   "outputs": [],
   "source": [
    "# dtypes = {'id':'int64', 'item_nbr':'int32', 'store_nbr':'int8'}"
   ]
  },
  {
   "cell_type": "code",
   "execution_count": 9,
   "id": "f5106089-cb32-4579-8892-2c71802a599a",
   "metadata": {},
   "outputs": [
    {
     "name": "stdout",
     "output_type": "stream",
     "text": [
      "id                    uint32\n",
      "date          datetime64[ns]\n",
      "store_nbr              uint8\n",
      "item_nbr              uint32\n",
      "unit_sales           float32\n",
      "dtype: object\n"
     ]
    }
   ],
   "source": [
    "train_part1 = pd.read_csv(\"input/train.csv\",dtype=dtype_dict, usecols=[0,1,2,3,4], parse_dates=['date'], skiprows=range(1, 101688779))\n",
    "print(train_part1.dtypes)"
   ]
  },
  {
   "cell_type": "code",
   "execution_count": 10,
   "id": "f2cd5ad8-7ea2-4d1a-848e-bc94214e5b2e",
   "metadata": {},
   "outputs": [
    {
     "name": "stdout",
     "output_type": "stream",
     "text": [
      "Index                128\n",
      "date           190466096\n",
      "store_nbr       23808262\n",
      "item_nbr        95233048\n",
      "unit_sales      95233048\n",
      "onpromotion     23808262\n",
      "Year            47616524\n",
      "Month           23808262\n",
      "Day             23808262\n",
      "dtype: int64\n",
      "Train dataset uses  499.51733779907227  MB after changes\n",
      "memory saved is approx 4620.482662200928  MB\n"
     ]
    }
   ],
   "source": [
    "# joining part one and two\n",
    "# For people familiar with R , the equivalent of cbind in pandas is the following command\n",
    "train = pd.concat([train_part1.reset_index(drop=True), train_part2], axis=1)\n",
    "#drop temp files\n",
    "del(train_part1)\n",
    "del(train_part2)\n",
    "#Further Id is just an indicator column, hence not required for analysis\n",
    "id=train['id']\n",
    "del(train['id'])\n",
    "# check memory\n",
    "print(train.memory_usage())\n",
    "#The extracted train.csv file is approx 5 GB\n",
    "mem_train=5*1024**3\n",
    "new_mem_train=train.memory_usage().sum()\n",
    "print(\"Train dataset uses \",new_mem_train/ 1024**2,\" MB after changes\")\n",
    "print(\"memory saved is approx\",(mem_train-new_mem_train)/ 1024**2,\" MB\")"
   ]
  },
  {
   "cell_type": "code",
   "execution_count": 11,
   "id": "a81b1341-d4a1-442d-bcde-a30f519a25f9",
   "metadata": {},
   "outputs": [
    {
     "name": "stderr",
     "output_type": "stream",
     "text": [
      "<ipython-input-11-c8ca3e695ed9>:6: FutureWarning: The pandas.np module is deprecated and will be removed from pandas in a future version. Import numpy directly instead\n",
      "  train['unit_sales'] =  train['unit_sales'].apply(pd.np.log1p) #logarithm conversion\n"
     ]
    },
    {
     "name": "stdout",
     "output_type": "stream",
     "text": [
      "Step 1 started\n",
      "Step 1 Time:0.40920114517211914\n",
      "Step 2 started\n",
      "Step 2 Time:855.025548696518\n",
      "Step 3 started\n",
      "Step 3 Time:19.415262460708618\n",
      "Done\n"
     ]
    }
   ],
   "source": [
    "import time\n",
    "\n",
    "dtypes = {'id':'int64', 'item_nbr':'int32', 'store_nbr':'int8'}\n",
    "start = time.time()\n",
    "train.loc[(train.unit_sales<0),'unit_sales'] = 0 # eliminate negatives\n",
    "train['unit_sales'] =  train['unit_sales'].apply(pd.np.log1p) #logarithm conversion\n",
    "\n",
    "\n",
    "print(\"Step 1 started\")\n",
    "end = time.time()\n",
    "print(f\"Step 1 Time:{end - start}\")\n",
    "start = time.time()\n",
    "# creating records for all items, in all markets on all dates\n",
    "# for correct calculation of daily unit sales averages.\n",
    "u_dates = train.date.unique()\n",
    "u_stores = train.store_nbr.unique()\n",
    "u_items = train.item_nbr.unique()\n",
    "train.set_index([\"date\", \"store_nbr\", \"item_nbr\"], inplace=True)\n",
    "train = train.reindex(\n",
    "    pd.MultiIndex.from_product(\n",
    "        (u_dates, u_stores, u_items),\n",
    "        names=[\"date\", \"store_nbr\", \"item_nbr\"]\n",
    "    )\n",
    ")\n",
    "\n",
    "del u_dates, u_stores, u_items\n",
    "\n",
    "print(\"Step 2 started\")\n",
    "end = time.time()\n",
    "print(f\"Step 2 Time:{end - start}\")\n",
    "start = time.time()\n",
    "train.loc[:, \"unit_sales\"].fillna(0, inplace=True) # fill NaNs\n",
    "train.reset_index(inplace=True) # reset index and restoring unique columns  \n",
    "lastdate = train.iloc[train.shape[0]-1].date\n",
    "\n",
    "print(\"Step 3 started\")\n",
    "end = time.time()\n",
    "print(f\"Step 3 Time:{end - start}\")\n",
    "#Load test\n",
    "# test = pd.read_csv(\"../input/test.csv\", usecols=[0,2,3], dtype=dtypes)\n",
    "test = test.set_index(['item_nbr', 'store_nbr'])\n",
    "ltest = test.shape[0]\n",
    "print(\"Done\")"
   ]
  },
  {
   "cell_type": "code",
   "execution_count": 12,
   "id": "8977ac4e-b6b6-4f2c-af44-8915808113ea",
   "metadata": {},
   "outputs": [],
   "source": [
    "train.to_csv(\"train_cleaned.csv\")"
   ]
  },
  {
   "cell_type": "code",
   "execution_count": 13,
   "id": "ec66e6aa-45ee-4529-bf60-0b68c1d3a686",
   "metadata": {},
   "outputs": [],
   "source": [
    "test.to_csv(\"test_cleaned.csv\")"
   ]
  },
  {
   "cell_type": "code",
   "execution_count": null,
   "id": "b3184031-3c1f-4059-bc87-66d70347fa38",
   "metadata": {},
   "outputs": [],
   "source": [
    "from __future__ import annotations\n",
    "import os\n",
    "import logging\n",
    "\n",
    "from vectice import Vectice, Experiment\n",
    "from vectice.__version__ import __version__, __vectice_version__\n",
    "\n",
    "os.environ[\"PROJECT_TOKEN\"] = \"g4Kn72y0t5LMRqr1rqO6\"\n",
    "os.environ[\"VECTICE_API_ENDPOINT\"] = \"app.vectice.com\"\n",
    "os.environ[\n",
    "    \"VECTICE_API_TOKEN\"\n",
    "] = \"Q31E39q8D.9wbZ09gmjONeE4nPaBldoQ31E39q8DWpLYMVrv27JyzAk6GRxX\"\n",
    "os.environ[\"GOOGLE_APPLICATION_CREDENTIALS\"] = \"test.json\""
   ]
  },
  {
   "cell_type": "code",
   "execution_count": null,
   "id": "3163ee46-a224-4cb6-9d96-362d0614162d",
   "metadata": {},
   "outputs": [],
   "source": [
    "experiment = Experiment(job=\"Data Preparation\", workspace=1507, project=5598)"
   ]
  },
  {
   "cell_type": "code",
   "execution_count": null,
   "id": "44dd4c29-3b1a-42e3-8ee9-9e5ecf5eaa6d",
   "metadata": {},
   "outputs": [],
   "source": [
    "experiment.add_dataset_version()"
   ]
  },
  {
   "cell_type": "code",
   "execution_count": null,
   "id": "6192c17f-312d-4e2b-9193-e3d55f05d1be",
   "metadata": {},
   "outputs": [],
   "source": [
    "experiment.start()"
   ]
  },
  {
   "cell_type": "code",
   "execution_count": null,
   "id": "67a6ca41-2f9e-482f-879c-67905bcdf580",
   "metadata": {},
   "outputs": [],
   "source": [
    "experiment.add_dataset_version()"
   ]
  },
  {
   "cell_type": "code",
   "execution_count": null,
   "id": "5f7319f5-840f-4a31-bc5f-dc41b6d04cd5",
   "metadata": {},
   "outputs": [],
   "source": [
    "experiment.complete()"
   ]
  }
 ],
 "metadata": {
  "kernelspec": {
   "display_name": "Python 3",
   "language": "python",
   "name": "python3"
  },
  "language_info": {
   "codemirror_mode": {
    "name": "ipython",
    "version": 3
   },
   "file_extension": ".py",
   "mimetype": "text/x-python",
   "name": "python",
   "nbconvert_exporter": "python",
   "pygments_lexer": "ipython3",
   "version": "3.9.5"
  }
 },
 "nbformat": 4,
 "nbformat_minor": 5
}
